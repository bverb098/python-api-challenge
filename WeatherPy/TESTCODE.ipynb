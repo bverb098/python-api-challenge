{
 "cells": [
  {
   "cell_type": "code",
   "execution_count": null,
   "metadata": {},
   "outputs": [],
   "source": [
    "cities=[]\n",
    "while len(cities) < 100:\n",
    "    lat=round(np.random.uniform(-89.9,89.9),3)\n",
    "    lon=round(np.random.uniform(-179.99,179.99),3)\n",
    "    city=citipy.nearest_city(lat,lon)\n",
    "    if cities.count(city.city_name) ==0:\n",
    "        cities.append(city.city_name)\n"
   ]
  }
 ],
 "metadata": {
  "language_info": {
   "name": "python"
  },
  "orig_nbformat": 4
 },
 "nbformat": 4,
 "nbformat_minor": 2
}
